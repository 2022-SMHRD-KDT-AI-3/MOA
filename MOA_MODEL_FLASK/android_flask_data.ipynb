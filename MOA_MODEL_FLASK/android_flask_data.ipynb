{
 "cells": [
  {
   "cell_type": "markdown",
   "metadata": {},
   "source": [
    "# ★Flask 서버"
   ]
  },
  {
   "cell_type": "code",
   "execution_count": 11,
   "metadata": {
    "scrolled": true
   },
   "outputs": [
    {
     "name": "stdout",
     "output_type": "stream",
     "text": [
      " * Serving Flask app \"__main__\" (lazy loading)\n",
      " * Environment: production\n",
      "   WARNING: Do not use the development server in a production environment.\n",
      "   Use a production WSGI server instead.\n",
      " * Debug mode: off\n"
     ]
    },
    {
     "name": "stderr",
     "output_type": "stream",
     "text": [
      " * Running on http://192.168.35.190:5000/ (Press CTRL+C to quit)\n"
     ]
    }
   ],
   "source": [
    "from flask import Flask\n",
    "from flask import request, redirect\n",
    "\n",
    "app = Flask(__name__) \n",
    "\n",
    "@app.route('/review_model', methods=['GET','POST'])\n",
    "def index():     \n",
    "       \n",
    "    if request.method == 'POST':\n",
    "        #안드로이드에서 getParams()메소드 안에 작성한 \n",
    "        # parsms.put(\"num1\", \"데이터1\");\n",
    "        # params.put(\"num2\", \"데이터2\");\n",
    "        # 의 key값인 num1, num2를 통해서 데이터 접근하여 변수에 저장\n",
    "        num1 = str(request.form['num1'])\n",
    "       # num2 = int(request.form['num2'])\n",
    "        \n",
    "        #딥러닝 모델을 함수로 구현한 후 결과값을 return하여 result변수에 저장\n",
    "        #딥러닝 모델은 아래 Cell에 만들 것\n",
    "        result = model(num1,num2)\n",
    "\n",
    "    #결과값 리턴하면 안드로이드 스튜디오 StringRequest 안에 있는 onResponse()로 값 전달\n",
    "    return result\n",
    "\n",
    "if __name__ == '__main__':\n",
    "    \n",
    "    #ip주소 변경하세요\n",
    "    app.run(host='192.168.35.190', port='5000') "
   ]
  },
  {
   "cell_type": "markdown",
   "metadata": {},
   "source": [
    "# ★딥러닝 모델 코드를 아래 함수 안에 넣고 결과값을 return 문에 작성할 것"
   ]
  },
  {
   "cell_type": "code",
   "execution_count": 4,
   "metadata": {},
   "outputs": [],
   "source": [
    "#머신러닝 모델함수\n",
    "def model(num1,num2):\n",
    "    #모델구현\n",
    "    \n",
    "    return '모델결과값'"
   ]
  },
  {
   "cell_type": "code",
   "execution_count": null,
   "metadata": {},
   "outputs": [],
   "source": []
  },
  {
   "cell_type": "code",
   "execution_count": null,
   "metadata": {},
   "outputs": [],
   "source": []
  },
  {
   "cell_type": "code",
   "execution_count": null,
   "metadata": {},
   "outputs": [],
   "source": []
  }
 ],
 "metadata": {
  "kernelspec": {
   "display_name": "Python 3 (ipykernel)",
   "language": "python",
   "name": "python3"
  },
  "language_info": {
   "codemirror_mode": {
    "name": "ipython",
    "version": 3
   },
   "file_extension": ".py",
   "mimetype": "text/x-python",
   "name": "python",
   "nbconvert_exporter": "python",
   "pygments_lexer": "ipython3",
   "version": "3.7.13"
  }
 },
 "nbformat": 4,
 "nbformat_minor": 2
}
